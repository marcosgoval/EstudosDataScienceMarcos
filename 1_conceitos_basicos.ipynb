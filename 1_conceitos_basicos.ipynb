{
  "nbformat": 4,
  "nbformat_minor": 0,
  "metadata": {
    "colab": {
      "name": "1-conceitos_basicos.ipynb",
      "provenance": [],
      "collapsed_sections": [],
      "authorship_tag": "ABX9TyPT0u9M/tHFs1uF7WTaqXzo",
      "include_colab_link": true
    },
    "kernelspec": {
      "name": "python3",
      "display_name": "Python 3"
    }
  },
  "cells": [
    {
      "cell_type": "markdown",
      "metadata": {
        "id": "view-in-github",
        "colab_type": "text"
      },
      "source": [
        "<a href=\"https://colab.research.google.com/github/marcosgoval/EstudosDataScienceMarcos/blob/main/1_conceitos_basicos.ipynb\" target=\"_parent\"><img src=\"https://colab.research.google.com/assets/colab-badge.svg\" alt=\"Open In Colab\"/></a>"
      ]
    },
    {
      "cell_type": "code",
      "metadata": {
        "colab": {
          "base_uri": "https://localhost:8080/"
        },
        "id": "gDlV6XGrwXhp",
        "outputId": "98b4fba2-b35e-4455-86f4-647e611606cd"
      },
      "source": [
        "print (\"Estudos Python\")"
      ],
      "execution_count": 1,
      "outputs": [
        {
          "output_type": "stream",
          "text": [
            "Estudos Python\n"
          ],
          "name": "stdout"
        }
      ]
    },
    {
      "cell_type": "code",
      "metadata": {
        "id": "331EKUewxvwY"
      },
      "source": [
        "exit()"
      ],
      "execution_count": 2,
      "outputs": []
    },
    {
      "cell_type": "code",
      "metadata": {
        "colab": {
          "base_uri": "https://localhost:8080/",
          "height": 135
        },
        "id": "hACijZa1x7ze",
        "outputId": "f215b0fa-93a7-4878-8cc3-4a068092f507"
      },
      "source": [
        "nome =  input ('Qual melhor linguagem:')\n",
        "if nome == \"python\":\n",
        "  print(\"Acertou miseravi!\")\n",
        "else: \n",
        "  print(\"errou =(\")"
      ],
      "execution_count": 6,
      "outputs": [
        {
          "output_type": "error",
          "ename": "IndentationError",
          "evalue": "ignored",
          "traceback": [
            "\u001b[0;36m  File \u001b[0;32m\"<ipython-input-6-e6cd3c912c52>\"\u001b[0;36m, line \u001b[0;32m3\u001b[0m\n\u001b[0;31m    print(\"Acertou miseravi!\")\u001b[0m\n\u001b[0m        ^\u001b[0m\n\u001b[0;31mIndentationError\u001b[0m\u001b[0;31m:\u001b[0m expected an indented block\n"
          ]
        }
      ]
    },
    {
      "cell_type": "code",
      "metadata": {
        "id": "ouI3eePpzobH"
      },
      "source": [
        "# Isto é um comentário"
      ],
      "execution_count": null,
      "outputs": []
    },
    {
      "cell_type": "code",
      "metadata": {
        "colab": {
          "base_uri": "https://localhost:8080/"
        },
        "id": "71HpiydHzrIu",
        "outputId": "2a5da5db-398a-4b1b-87f1-dac32f53f711"
      },
      "source": [
        "dicionario = {\"nome\":\"Guido\", \"idade\":28}\n",
        "print( dicionario)\n",
        "type(dicionario)"
      ],
      "execution_count": 12,
      "outputs": [
        {
          "output_type": "stream",
          "text": [
            "{'nome': 'Guido', 'idade': 28}\n"
          ],
          "name": "stdout"
        },
        {
          "output_type": "execute_result",
          "data": {
            "text/plain": [
              "dict"
            ]
          },
          "metadata": {
            "tags": []
          },
          "execution_count": 12
        }
      ]
    },
    {
      "cell_type": "code",
      "metadata": {
        "colab": {
          "base_uri": "https://localhost:8080/"
        },
        "id": "6uK-H3Fa0nzV",
        "outputId": "dc5081cf-f1f0-49bb-bbe6-82fba956f3c8"
      },
      "source": [
        "lista = [\"item\",\"item2\",3,\"quatro\",3.14]\n",
        "print(lista)\n",
        "type(lista)"
      ],
      "execution_count": 13,
      "outputs": [
        {
          "output_type": "stream",
          "text": [
            "['item', 'item2', 3, 'quatro', 3.14]\n"
          ],
          "name": "stdout"
        },
        {
          "output_type": "execute_result",
          "data": {
            "text/plain": [
              "list"
            ]
          },
          "metadata": {
            "tags": []
          },
          "execution_count": 13
        }
      ]
    },
    {
      "cell_type": "code",
      "metadata": {
        "colab": {
          "base_uri": "https://localhost:8080/"
        },
        "id": "pOow3tX01bBw",
        "outputId": "00be0fe3-1d70-4b83-fdef-fb87e18ad835"
      },
      "source": [
        "tupla =  (1,2,3,\"Python\")\n",
        "print (tupla)\n",
        "type (tupla)"
      ],
      "execution_count": 15,
      "outputs": [
        {
          "output_type": "stream",
          "text": [
            "(1, 2, 3, 'Python')\n"
          ],
          "name": "stdout"
        },
        {
          "output_type": "execute_result",
          "data": {
            "text/plain": [
              "tuple"
            ]
          },
          "metadata": {
            "tags": []
          },
          "execution_count": 15
        }
      ]
    },
    {
      "cell_type": "code",
      "metadata": {
        "colab": {
          "base_uri": "https://localhost:8080/"
        },
        "id": "s9p5zrNc2UZy",
        "outputId": "d0eb5a5a-c2b5-4416-e66d-b95b7718961e"
      },
      "source": [
        "print(10+10) \n",
        "print(10+(50+50)) \n",
        "print(10-10*5) \n",
        "print(1000%80) #resto\n",
        "print(10**5) #exponencial\n",
        "print(10/6) #divisão\n",
        "print(10//6) #modulo , parte inteira\n"
      ],
      "execution_count": 17,
      "outputs": [
        {
          "output_type": "stream",
          "text": [
            "20\n",
            "110\n",
            "-40\n",
            "40\n",
            "100000\n",
            "1.6666666666666667\n",
            "1\n"
          ],
          "name": "stdout"
        }
      ]
    },
    {
      "cell_type": "code",
      "metadata": {
        "colab": {
          "base_uri": "https://localhost:8080/"
        },
        "id": "Mf34RLXA28V0",
        "outputId": "b285609b-3213-4fa7-ce01-f3701a1c6b42"
      },
      "source": [
        "x = 1\n",
        "if 0 < x:\n",
        "    if x < 10:\n",
        "        print('#x um dígito menor que 10') "
      ],
      "execution_count": 24,
      "outputs": [
        {
          "output_type": "stream",
          "text": [
            "#x um dígito menor que 10\n"
          ],
          "name": "stdout"
        }
      ]
    },
    {
      "cell_type": "code",
      "metadata": {
        "colab": {
          "base_uri": "https://localhost:8080/"
        },
        "id": "gNMctfA54z-f",
        "outputId": "e826b0dd-45b0-4a2a-b12e-f72f520a3593"
      },
      "source": [
        "x = 1\n",
        "while x < 10:\n",
        "\tprint(\"Número: %s\" %x)\n",
        "\tx += 1\n",
        "print(\"O while acabou :)\")"
      ],
      "execution_count": 33,
      "outputs": [
        {
          "output_type": "stream",
          "text": [
            "Número: 1\n",
            "Número: 2\n",
            "Número: 3\n",
            "Número: 4\n",
            "Número: 5\n",
            "Número: 6\n",
            "Número: 7\n",
            "Número: 8\n",
            "Número: 9\n",
            "O while acabou :)\n"
          ],
          "name": "stdout"
        }
      ]
    },
    {
      "cell_type": "code",
      "metadata": {
        "colab": {
          "base_uri": "https://localhost:8080/"
        },
        "id": "Nx7medR055O0",
        "outputId": "4ab504a5-6f79-4783-d35f-9129b8e39bc4"
      },
      "source": [
        "fruta = [\"laranja\",\"Melancia\",\"Uva\"]\n",
        "type(fruta)\n",
        "for f in fruta:\n",
        "  print(f)"
      ],
      "execution_count": 35,
      "outputs": [
        {
          "output_type": "stream",
          "text": [
            "laranja\n",
            "Melancia\n",
            "Uva\n"
          ],
          "name": "stdout"
        }
      ]
    },
    {
      "cell_type": "code",
      "metadata": {
        "colab": {
          "base_uri": "https://localhost:8080/"
        },
        "id": "FE39yRD56U8x",
        "outputId": "db734b7c-abb6-468b-de2d-c0baef5b5178"
      },
      "source": [
        "#Contagem decremento\n",
        "for i in range(10,0,-1):\n",
        "  print(i)"
      ],
      "execution_count": 36,
      "outputs": [
        {
          "output_type": "stream",
          "text": [
            "10\n",
            "9\n",
            "8\n",
            "7\n",
            "6\n",
            "5\n",
            "4\n",
            "3\n",
            "2\n",
            "1\n"
          ],
          "name": "stdout"
        }
      ]
    },
    {
      "cell_type": "code",
      "metadata": {
        "colab": {
          "base_uri": "https://localhost:8080/"
        },
        "id": "DGs8tvc172TM",
        "outputId": "0b81965f-cbdb-4a5e-fb94-df4443ce926d"
      },
      "source": [
        "def divisao(dividendo,divisor):\n",
        "  quociente = dividendo // divisor\n",
        "  resto = dividendo % divisor\n",
        "  return quociente, resto\n",
        "\n",
        "q, r = divisao(35,3)\n",
        "print(q,r)\n",
        "_,r = divisao(35,3)\n",
        "print(_,r)\n",
        "q,_  = divisao(35,3)\n",
        "print(q,_)\n",
        "\n"
      ],
      "execution_count": 47,
      "outputs": [
        {
          "output_type": "stream",
          "text": [
            "11 2\n",
            "11 2\n",
            "11 2\n"
          ],
          "name": "stdout"
        }
      ]
    },
    {
      "cell_type": "code",
      "metadata": {
        "colab": {
          "base_uri": "https://localhost:8080/"
        },
        "id": "ffqAvHkZ91a-",
        "outputId": "430a5c6c-81f8-4b85-f98e-7f1b9e39387f"
      },
      "source": [
        "#Lambda\n",
        "var = lambda x: x*2\n",
        "print(var(2))"
      ],
      "execution_count": 48,
      "outputs": [
        {
          "output_type": "stream",
          "text": [
            "4\n"
          ],
          "name": "stdout"
        }
      ]
    },
    {
      "cell_type": "code",
      "metadata": {
        "colab": {
          "base_uri": "https://localhost:8080/"
        },
        "id": "ehjxZuP3-gGz",
        "outputId": "16eabf82-074f-426d-d76e-9a35d0065486"
      },
      "source": [
        "#lambda\n",
        "anonimas = [lambda x: x** 2,lambda x: x**3, lambda x: x** 4]\n",
        "for a in anonimas:\n",
        "  print(a(10))"
      ],
      "execution_count": 52,
      "outputs": [
        {
          "output_type": "stream",
          "text": [
            "100\n",
            "1000\n",
            "10000\n"
          ],
          "name": "stdout"
        }
      ]
    },
    {
      "cell_type": "code",
      "metadata": {
        "id": "Y5_aqty1-gtN"
      },
      "source": [
        ""
      ],
      "execution_count": null,
      "outputs": []
    }
  ]
}